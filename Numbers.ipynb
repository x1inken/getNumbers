{
 "cells": [
  {
   "cell_type": "code",
   "execution_count": 2,
   "metadata": {},
   "outputs": [],
   "source": [
    "from bs4 import BeautifulSoup\n",
    "import urllib.request\n",
    "from selenium import webdriver\n",
    "import time\n",
    "from datetime import datetime,date,timedelta\n",
    "from dateutil.relativedelta import relativedelta"
   ]
  },
  {
   "cell_type": "code",
   "execution_count": 6,
   "metadata": {},
   "outputs": [
    {
     "name": "stdout",
     "output_type": "stream",
     "text": [
      "https://www.mizuhobank.co.jp/retail/takarakuji/numbers/numbers4/index.html?year=2019&month=09\n",
      "第5255回 2019年9月2日 9854 25口 1,122,700円 438口 46,700円 48口 584,700円 1,689口 23,300円 258,082,000円\n",
      "https://www.mizuhobank.co.jp/retail/takarakuji/numbers/numbers4/index.html?year=2019&month=08\n",
      "第5254回 2019年8月30日 2200 20口 957,400円 126口 159,500円 46口 558,400円 459口 79,700円 225,703,600円\n",
      "第5253回 2019年8月29日 1616 37口 645,900円 116口 107,600円 123口 376,700円 312口 53,800円 221,183,400円\n",
      "第5252回 2019年8月28日 9083 19口 1,171,400円 293口 48,800円 45口 610,100円 1,335口 24,400円 214,663,200円\n",
      "第5251回 2019年8月27日 7206 11口 1,223,500円 263口 50,900円 52口 637,200円 1,357口 25,400円 210,211,800円\n",
      "第5250回 2019年8月26日 6479 26口 925,400円 375口 38,500円 94口 481,900円 1,684口 19,200円 258,451,400円\n",
      "第5249回 2019年8月23日 9223 29口 1,025,300円 133口 85,400円 54口 555,300円 744口 42,700円 228,607,800円\n",
      "第5248回 2019年8月22日 6550 14口 1,372,300円 99口 114,300円 42口 743,300円 627口 57,100円 216,914,200円\n",
      "第5247回 2019年8月21日 9259 15口 1,163,800円 114口 96,900円 64口 630,300円 605口 48,400円 218,217,600円\n",
      "第5246回 2019年8月20日 8604 15口 826,300円 399口 34,400円 96口 430,300円 1,540口 17,200円 208,811,200円\n",
      "第5245回 2019年8月19日 8440 22口 1,285,800円 139口 107,100円 57口 696,400円 577口 53,500円 252,887,400円\n",
      "第5244回 2019年8月16日 4305 22口 1,107,900円 276口 46,100円 50口 577,000円 1,524口 23,000円 224,766,600円\n",
      "第5243回 2019年8月15日 0387 6口 1,414,300円 264口 58,900円 35口 736,600円 1,387口 29,400円 201,538,200円\n",
      "第5242回 2019年8月14日 6196 9口 973,700円 211口 81,100円 54口 527,400円 848口 40,500円 197,279,200円\n",
      "第5241回 2019年8月13日 8199 14口 843,700円 196口 70,300円 69口 457,000円 801口 35,100円 189,520,800円\n",
      "第5240回 2019年8月12日 9036 18口 951,400円 405口 39,600円 74口 495,500円 1,576口 19,800円 224,651,800円\n",
      "第5239回 2019年8月9日 8637 28口 816,400円 369口 34,000円 83口 425,200円 1,645口 17,000円 219,305,200円\n",
      "第5238回 2019年8月8日 2188 21口 800,500円 170口 66,700円 92口 433,600円 786口 33,300円 209,466,600円\n",
      "第5237回 2019年8月7日 5223 15口 949,100円 140口 79,000円 78口 514,000円 743口 39,500円 210,665,200円\n",
      "第5236回 2019年8月6日 6385 18口 885,900円 378口 36,900円 67口 461,400円 1,645口 18,400円 202,609,400円\n",
      "第5235回 2019年8月5日 1055 30口 760,300円 268口 63,300円 93口 411,800円 1,046口 31,600円 247,183,800円\n",
      "第5234回 2019年8月2日 1575 15口 1,224,200円 178口 102,000円 43口 663,100円 722口 51,000円 226,365,200円\n",
      "第5233回 2019年8月1日 2945 18口 951,100円 383口 39,600円 70口 495,300円 1,592口 19,800円 218,941,800円\n"
     ]
    }
   ],
   "source": [
    "today = datetime.today()\n",
    "count = 0\n",
    "base_url = 'https://www.mizuhobank.co.jp/retail/takarakuji/numbers/numbers4/index.html?year={0}&month={1}'\n",
    "\n",
    "while True:\n",
    "\n",
    "    maeMonth = today - relativedelta(months=count)\n",
    "    year = datetime.strftime(maeMonth, '%Y')\n",
    "    month = datetime.strftime(maeMonth, '%m')\n",
    "\n",
    "    url = base_url.format(year,month)\n",
    "    print(url)\n",
    "\n",
    "    try:\n",
    "        \n",
    "        browser = webdriver.Firefox()\n",
    "        browser.get(url)\n",
    "        time.sleep(2)\n",
    "        html = browser.page_source\n",
    "        browser.quit()\n",
    "\n",
    "        soup = BeautifulSoup(html)\n",
    "        tables = soup.findAll(attrs={\"class\": \"typeTK\"})\n",
    "        \n",
    "        for table in tables:\n",
    "            trs = table.findAll('tr')\n",
    "            kai = trs[0].findAll('th')[1].text\n",
    "            hi = trs[1].find('td').text\n",
    "            hit = trs[2].find('td').find('strong').text\n",
    "            st = trs[3].findAll('td')[0].text\n",
    "            st_price = trs[3].findAll('td')[1].find('strong').text\n",
    "            box = trs[4].findAll('td')[0].text\n",
    "            box_price = trs[4].findAll('td')[1].find('strong').text\n",
    "            set_st = trs[5].findAll('td')[0].text\n",
    "            set_st_price = trs[5].findAll('td')[1].find('strong').text\n",
    "            set_box = trs[6].findAll('td')[0].text\n",
    "            set_box_price = trs[6].findAll('td')[1].find('strong').text\n",
    "            #mini = trs[7].findAll('td')[0].text\n",
    "            #mini_price = trs[7].findAll('td')[1].find('strong').text\n",
    "            allprice = trs[7].find('td').text\n",
    "            print(kai, hi , hit, st, st_price, box, box_price, set_st, set_st_price, set_box,set_box_price, allprice)\n",
    "        \n",
    "        count = count + 1\n",
    "        if count > 1:\n",
    "            break\n",
    "            \n",
    "    except:\n",
    "        print('error')\n",
    "    finally:\n",
    "        try:\n",
    "            browser.quit()\n",
    "            pass\n",
    "        except:\n",
    "            pass\n"
   ]
  },
  {
   "cell_type": "code",
   "execution_count": null,
   "metadata": {},
   "outputs": [],
   "source": []
  }
 ],
 "metadata": {
  "kernelspec": {
   "display_name": "Python 3",
   "language": "python",
   "name": "python3"
  },
  "language_info": {
   "codemirror_mode": {
    "name": "ipython",
    "version": 3
   },
   "file_extension": ".py",
   "mimetype": "text/x-python",
   "name": "python",
   "nbconvert_exporter": "python",
   "pygments_lexer": "ipython3",
   "version": "3.7.3"
  }
 },
 "nbformat": 4,
 "nbformat_minor": 2
}
